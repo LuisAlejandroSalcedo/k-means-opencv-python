{
 "cells": [
  {
   "cell_type": "code",
   "execution_count": null,
   "metadata": {},
   "outputs": [
    {
     "name": "stdout",
     "output_type": "stream",
     "text": [
      "Ejemplo de distribución...\n",
      "Ejemplo de distribución...\n",
      "Ejemplo de distribución...\n",
      "Ejemplo de distribución...\n",
      "Ejemplo de distribución...\n",
      "Ejemplo de distribución...\n",
      "Ejemplo de distribución...\n",
      "Ejemplo de distribución...\n",
      "Ejemplo de distribución...\n",
      "Ejemplo de distribución...\n",
      "Ejemplo de distribución...\n"
     ]
    }
   ],
   "source": [
    "from __future__ import print_function\n",
    "import numpy as np\n",
    "import cv2 as cv\n",
    "from gaussian_mix import make_gaussians\n",
    "\n",
    "cluster_n = 5 # Numero de grupos\n",
    "img_size = 512 # Tamaño de la imagen\n",
    "\n",
    "# Generamos la paleta de colores\n",
    "colors = np.zeros((1, cluster_n, 3), np.uint8)\n",
    "colors[0,:] = 255\n",
    "colors[0,:,0] = np.arange(0, 180, 180.0/cluster_n)\n",
    "colors = cv.cvtColor(colors, cv.COLOR_HSV2BGR)[0]\n",
    "\n",
    "while True:\n",
    "    print(\"Ejemplo de distribución...\")\n",
    "    points, _ = make_gaussians(cluster_n, img_size) # Generamos los puntos\n",
    "    \n",
    "    term_crit = (cv.TERM_CRITERIA_EPS, 30, 0.1)\n",
    "    ret, labels, centers = cv.kmeans(points, cluster_n, None, term_crit, 10, 0)\n",
    "    img = np.zeros((img_size, img_size, 3), np.uint8)\n",
    "    for (x, y), label in zip(np.int32(points), labels.ravel()): \n",
    "        c = list(map(int, colors[label]))\n",
    "        cv.circle(img, (x,y), 1, c, -1)\n",
    "    cv.imshow('gaussian mixture', img)\n",
    "    ch = cv.waitKey(0)\n",
    "    if ch == 27:\n",
    "        break\n",
    "cv.destroyAllWindows()"
   ]
  },
  {
   "cell_type": "code",
   "execution_count": null,
   "metadata": {},
   "outputs": [],
   "source": []
  }
 ],
 "metadata": {
  "kernelspec": {
   "display_name": "Python 3",
   "language": "python",
   "name": "python3"
  },
  "language_info": {
   "codemirror_mode": {
    "name": "ipython",
    "version": 3
   },
   "file_extension": ".py",
   "mimetype": "text/x-python",
   "name": "python",
   "nbconvert_exporter": "python",
   "pygments_lexer": "ipython3",
   "version": "3.6.4"
  }
 },
 "nbformat": 4,
 "nbformat_minor": 2
}
